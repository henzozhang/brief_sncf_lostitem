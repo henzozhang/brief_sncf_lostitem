{
 "cells": [
  {
   "cell_type": "markdown",
   "metadata": {},
   "source": [
    "# Request TemperatureHeure"
   ]
  },
  {
   "cell_type": "code",
   "execution_count": 1,
   "metadata": {},
   "outputs": [],
   "source": [
    "from sqlalchemy.orm import sessionmaker\n",
    "from sqlalchemy import create_engine\n",
    "import pandas as pd\n",
    "\n",
    "engine = create_engine('sqlite:///db.sqlite')\n",
    "connection = engine.connect()"
   ]
  },
  {
   "cell_type": "code",
   "execution_count": 2,
   "metadata": {},
   "outputs": [],
   "source": [
    "request = \"\"\" \n",
    "    SELECT TemperatureHeure.temperature, TemperatureHeure.departement_code, TemperatureHeure.date\n",
    "    FROM TemperatureHeure \n",
    "    WHERE TemperatureHeure.departement_code=59\n",
    "\"\"\"\n",
    "\n",
    "temperature = pd.read_sql(request, connection,index_col=\"date\")\n",
    "temperature[\"temperature\"]=temperature[\"temperature\"].astype(float)\n",
    "temperature.index = pd.to_datetime(temperature.index)"
   ]
  },
  {
   "cell_type": "code",
   "execution_count": 8,
   "metadata": {},
   "outputs": [
    {
     "name": "stdout",
     "output_type": "stream",
     "text": [
      "<class 'pandas.core.frame.DataFrame'>\n",
      "DatetimeIndex: 63302 entries, 2016-12-31 21:00:00+00:00 to 2021-12-10 06:00:00+00:00\n",
      "Data columns (total 2 columns):\n",
      " #   Column            Non-Null Count  Dtype  \n",
      "---  ------            --------------  -----  \n",
      " 0   temperature       63302 non-null  float64\n",
      " 1   departement_code  63302 non-null  object \n",
      "dtypes: float64(1), object(1)\n",
      "memory usage: 1.4+ MB\n"
     ]
    }
   ],
   "source": [
    "temperature.info()"
   ]
  },
  {
   "cell_type": "code",
   "execution_count": 17,
   "metadata": {},
   "outputs": [
    {
     "name": "stderr",
     "output_type": "stream",
     "text": [
      "/var/folders/py/4rt338cj1ks4z3332m7l3f880000gp/T/ipykernel_54077/1187376375.py:1: FutureWarning: The default value of numeric_only in DataFrameGroupBy.mean is deprecated. In a future version, numeric_only will default to False. Either specify numeric_only or select only columns which should be valid for the function.\n",
      "  temp_group_by = temperature.groupby('departement_code').resample('D').agg(\"mean\")\n"
     ]
    },
    {
     "data": {
      "text/html": [
       "<div>\n",
       "<style scoped>\n",
       "    .dataframe tbody tr th:only-of-type {\n",
       "        vertical-align: middle;\n",
       "    }\n",
       "\n",
       "    .dataframe tbody tr th {\n",
       "        vertical-align: top;\n",
       "    }\n",
       "\n",
       "    .dataframe thead th {\n",
       "        text-align: right;\n",
       "    }\n",
       "</style>\n",
       "<table border=\"1\" class=\"dataframe\">\n",
       "  <thead>\n",
       "    <tr style=\"text-align: right;\">\n",
       "      <th></th>\n",
       "      <th></th>\n",
       "      <th>temperature</th>\n",
       "    </tr>\n",
       "    <tr>\n",
       "      <th>departement_code</th>\n",
       "      <th>date</th>\n",
       "      <th></th>\n",
       "    </tr>\n",
       "  </thead>\n",
       "  <tbody>\n",
       "    <tr>\n",
       "      <th rowspan=\"11\" valign=\"top\">59</th>\n",
       "      <th>2016-12-10 00:00:00+00:00</th>\n",
       "      <td>8.366667</td>\n",
       "    </tr>\n",
       "    <tr>\n",
       "      <th>2016-12-11 00:00:00+00:00</th>\n",
       "      <td>7.825000</td>\n",
       "    </tr>\n",
       "    <tr>\n",
       "      <th>2016-12-12 00:00:00+00:00</th>\n",
       "      <td>4.837500</td>\n",
       "    </tr>\n",
       "    <tr>\n",
       "      <th>2016-12-13 00:00:00+00:00</th>\n",
       "      <td>6.200000</td>\n",
       "    </tr>\n",
       "    <tr>\n",
       "      <th>2016-12-14 00:00:00+00:00</th>\n",
       "      <td>5.650000</td>\n",
       "    </tr>\n",
       "    <tr>\n",
       "      <th>...</th>\n",
       "      <td>...</td>\n",
       "    </tr>\n",
       "    <tr>\n",
       "      <th>2021-12-27 00:00:00+00:00</th>\n",
       "      <td>8.337500</td>\n",
       "    </tr>\n",
       "    <tr>\n",
       "      <th>2021-12-28 00:00:00+00:00</th>\n",
       "      <td>10.287500</td>\n",
       "    </tr>\n",
       "    <tr>\n",
       "      <th>2021-12-29 00:00:00+00:00</th>\n",
       "      <td>10.875000</td>\n",
       "    </tr>\n",
       "    <tr>\n",
       "      <th>2021-12-30 00:00:00+00:00</th>\n",
       "      <td>14.050000</td>\n",
       "    </tr>\n",
       "    <tr>\n",
       "      <th>2021-12-31 00:00:00+00:00</th>\n",
       "      <td>12.525000</td>\n",
       "    </tr>\n",
       "  </tbody>\n",
       "</table>\n",
       "<p>1848 rows × 1 columns</p>\n",
       "</div>"
      ],
      "text/plain": [
       "                                            temperature\n",
       "departement_code date                                  \n",
       "59               2016-12-10 00:00:00+00:00     8.366667\n",
       "                 2016-12-11 00:00:00+00:00     7.825000\n",
       "                 2016-12-12 00:00:00+00:00     4.837500\n",
       "                 2016-12-13 00:00:00+00:00     6.200000\n",
       "                 2016-12-14 00:00:00+00:00     5.650000\n",
       "...                                                 ...\n",
       "                 2021-12-27 00:00:00+00:00     8.337500\n",
       "                 2021-12-28 00:00:00+00:00    10.287500\n",
       "                 2021-12-29 00:00:00+00:00    10.875000\n",
       "                 2021-12-30 00:00:00+00:00    14.050000\n",
       "                 2021-12-31 00:00:00+00:00    12.525000\n",
       "\n",
       "[1848 rows x 1 columns]"
      ]
     },
     "execution_count": 17,
     "metadata": {},
     "output_type": "execute_result"
    }
   ],
   "source": [
    "temp_group_by = temperature.groupby('departement_code').resample('D').agg(\"mean\")\n",
    "temp_group_by"
   ]
  },
  {
   "cell_type": "code",
   "execution_count": 18,
   "metadata": {},
   "outputs": [],
   "source": [
    "temp_group_by = temp_group_by.reset_index()\n"
   ]
  },
  {
   "cell_type": "code",
   "execution_count": 15,
   "metadata": {},
   "outputs": [
    {
     "name": "stdout",
     "output_type": "stream",
     "text": [
      "<class 'pandas.core.frame.DataFrame'>\n",
      "RangeIndex: 1848 entries, 0 to 1847\n",
      "Data columns (total 3 columns):\n",
      " #   Column            Non-Null Count  Dtype  \n",
      "---  ------            --------------  -----  \n",
      " 0   departement_code  1848 non-null   object \n",
      " 1   date              1848 non-null   object \n",
      " 2   temperature       131 non-null    float64\n",
      "dtypes: float64(1), object(2)\n",
      "memory usage: 43.4+ KB\n"
     ]
    }
   ],
   "source": [
    "temp_group_by.info()"
   ]
  },
  {
   "cell_type": "markdown",
   "metadata": {},
   "source": [
    "# Request Lost_Items"
   ]
  },
  {
   "cell_type": "code",
   "execution_count": 19,
   "metadata": {},
   "outputs": [],
   "source": [
    "request = \"\"\" \n",
    "    SELECT LostItem.code_uic_gare_origine , COUNT(*) \n",
    "    FROM LostItem \n",
    "    GROUP BY LostItem.code_uic_gare_origine\n",
    "\"\"\"\n",
    "\n",
    "item_gb = pd.read_sql(request, connection)"
   ]
  },
  {
   "cell_type": "code",
   "execution_count": 22,
   "metadata": {},
   "outputs": [
    {
     "name": "stdout",
     "output_type": "stream",
     "text": [
      "<class 'pandas.core.frame.DataFrame'>\n",
      "RangeIndex: 179 entries, 0 to 178\n",
      "Data columns (total 2 columns):\n",
      " #   Column                 Non-Null Count  Dtype \n",
      "---  ------                 --------------  ----- \n",
      " 0   code_uic_gare_origine  178 non-null    object\n",
      " 1   COUNT(*)               179 non-null    int64 \n",
      "dtypes: int64(1), object(1)\n",
      "memory usage: 2.9+ KB\n"
     ]
    }
   ],
   "source": [
    "item_gb.info()"
   ]
  },
  {
   "cell_type": "code",
   "execution_count": 26,
   "metadata": {},
   "outputs": [],
   "source": [
    "request = \"\"\" \n",
    "    SELECT * \n",
    "    FROM Gare \n",
    "\"\"\"\n",
    "\n",
    "gare_gb = pd.read_sql(request, connection)"
   ]
  },
  {
   "cell_type": "code",
   "execution_count": 30,
   "metadata": {},
   "outputs": [
    {
     "data": {
      "text/plain": [
       "0087726216    1\n",
       "0087775122    1\n",
       "0087753541    1\n",
       "0087775247    1\n",
       "0087784843    1\n",
       "             ..\n",
       "0087584458    1\n",
       "0087249789    1\n",
       "0087734087    2\n",
       "0087271007    2\n",
       "0087645119    2\n",
       "Name: code_uic, Length: 3210, dtype: int64"
      ]
     },
     "execution_count": 30,
     "metadata": {},
     "output_type": "execute_result"
    }
   ],
   "source": [
    "gare_gb[\"code_uic\"].value_counts().sort_values()"
   ]
  },
  {
   "cell_type": "code",
   "execution_count": 28,
   "metadata": {},
   "outputs": [
    {
     "data": {
      "text/html": [
       "<div>\n",
       "<style scoped>\n",
       "    .dataframe tbody tr th:only-of-type {\n",
       "        vertical-align: middle;\n",
       "    }\n",
       "\n",
       "    .dataframe tbody tr th {\n",
       "        vertical-align: top;\n",
       "    }\n",
       "\n",
       "    .dataframe thead th {\n",
       "        text-align: right;\n",
       "    }\n",
       "</style>\n",
       "<table border=\"1\" class=\"dataframe\">\n",
       "  <thead>\n",
       "    <tr style=\"text-align: right;\">\n",
       "      <th></th>\n",
       "      <th>id</th>\n",
       "      <th>code_uic</th>\n",
       "      <th>nom_gare</th>\n",
       "      <th>code_postal</th>\n",
       "      <th>code_commune</th>\n",
       "      <th>code_departement</th>\n",
       "      <th>departement</th>\n",
       "      <th>longitude</th>\n",
       "      <th>latitude</th>\n",
       "    </tr>\n",
       "  </thead>\n",
       "  <tbody>\n",
       "    <tr>\n",
       "      <th>1256</th>\n",
       "      <td>5e6c947d7b4656435bd51d98b812591382632924</td>\n",
       "      <td>0087000028</td>\n",
       "      <td>Sevenans</td>\n",
       "      <td>90400</td>\n",
       "      <td>094</td>\n",
       "      <td>90</td>\n",
       "      <td>Territoire de Belfort</td>\n",
       "      <td>NaN</td>\n",
       "      <td>NaN</td>\n",
       "    </tr>\n",
       "    <tr>\n",
       "      <th>2588</th>\n",
       "      <td>61fd0a21f177438f872859fb149fa8cc6e7c2863</td>\n",
       "      <td>0087000032</td>\n",
       "      <td>Le Mans hôpital-université</td>\n",
       "      <td>72000</td>\n",
       "      <td>None</td>\n",
       "      <td>None</td>\n",
       "      <td>None</td>\n",
       "      <td>NaN</td>\n",
       "      <td>NaN</td>\n",
       "    </tr>\n",
       "    <tr>\n",
       "      <th>1145</th>\n",
       "      <td>f90a4a67faa88f3f424e6967e09cc0653f642e04</td>\n",
       "      <td>0087001479</td>\n",
       "      <td>Aéroport Charles de Gaulle 2 TGV</td>\n",
       "      <td>95700</td>\n",
       "      <td>527</td>\n",
       "      <td>95</td>\n",
       "      <td>Val-d'Oise</td>\n",
       "      <td>2.570892</td>\n",
       "      <td>49.003652</td>\n",
       "    </tr>\n",
       "    <tr>\n",
       "      <th>1896</th>\n",
       "      <td>a3a687d0751bbec6a7ba16870933438ae073b622</td>\n",
       "      <td>0087009696</td>\n",
       "      <td>La Douzillère</td>\n",
       "      <td>37300</td>\n",
       "      <td>122</td>\n",
       "      <td>37</td>\n",
       "      <td>Indre-et-Loire</td>\n",
       "      <td>0.652824</td>\n",
       "      <td>47.338817</td>\n",
       "    </tr>\n",
       "    <tr>\n",
       "      <th>1895</th>\n",
       "      <td>11e9af039e38eeb54620ae596abf947a26bf423c</td>\n",
       "      <td>0087109306</td>\n",
       "      <td>Lille CHR</td>\n",
       "      <td>59000</td>\n",
       "      <td>350</td>\n",
       "      <td>59</td>\n",
       "      <td>Nord</td>\n",
       "      <td>3.034320</td>\n",
       "      <td>50.614320</td>\n",
       "    </tr>\n",
       "    <tr>\n",
       "      <th>...</th>\n",
       "      <td>...</td>\n",
       "      <td>...</td>\n",
       "      <td>...</td>\n",
       "      <td>...</td>\n",
       "      <td>...</td>\n",
       "      <td>...</td>\n",
       "      <td>...</td>\n",
       "      <td>...</td>\n",
       "      <td>...</td>\n",
       "    </tr>\n",
       "    <tr>\n",
       "      <th>1281</th>\n",
       "      <td>c1eb0555ec810840ed1866aaf02bfb376a8029c1</td>\n",
       "      <td>0087784892</td>\n",
       "      <td>Bena Fanes</td>\n",
       "      <td>66760</td>\n",
       "      <td>066</td>\n",
       "      <td>66</td>\n",
       "      <td>Pyrénées-Orientales</td>\n",
       "      <td>1.916726</td>\n",
       "      <td>42.458078</td>\n",
       "    </tr>\n",
       "    <tr>\n",
       "      <th>664</th>\n",
       "      <td>ad72975073065b6bbd0b4a5e7f3299972f5ab6b3</td>\n",
       "      <td>0087785006</td>\n",
       "      <td>Cerbère</td>\n",
       "      <td>66290</td>\n",
       "      <td>048</td>\n",
       "      <td>66</td>\n",
       "      <td>Pyrénées-Orientales</td>\n",
       "      <td>3.163403</td>\n",
       "      <td>42.441773</td>\n",
       "    </tr>\n",
       "    <tr>\n",
       "      <th>3013</th>\n",
       "      <td>5b54fe3746858c7d41facbfe1e90115d73fe8a41</td>\n",
       "      <td>0087981902</td>\n",
       "      <td>Avignon TGV</td>\n",
       "      <td>84000</td>\n",
       "      <td>007</td>\n",
       "      <td>84</td>\n",
       "      <td>Vaucluse</td>\n",
       "      <td>4.786079</td>\n",
       "      <td>43.921586</td>\n",
       "    </tr>\n",
       "    <tr>\n",
       "      <th>663</th>\n",
       "      <td>c916d3f5dbd75d76305e7aa537e67daeb8f239e9</td>\n",
       "      <td>0087988709</td>\n",
       "      <td>Remise à Jorelle</td>\n",
       "      <td>93140</td>\n",
       "      <td>010</td>\n",
       "      <td>93</td>\n",
       "      <td>Seine-Saint-Denis</td>\n",
       "      <td>2.487751</td>\n",
       "      <td>48.893170</td>\n",
       "    </tr>\n",
       "    <tr>\n",
       "      <th>2590</th>\n",
       "      <td>2636a377da82c8a4100bc6d7ff548751c77ce923</td>\n",
       "      <td>0087988717</td>\n",
       "      <td>Lycée Henri Sellier</td>\n",
       "      <td>93190</td>\n",
       "      <td>046</td>\n",
       "      <td>93</td>\n",
       "      <td>Seine-Saint-Denis</td>\n",
       "      <td>2.515040</td>\n",
       "      <td>48.916460</td>\n",
       "    </tr>\n",
       "  </tbody>\n",
       "</table>\n",
       "<p>3213 rows × 9 columns</p>\n",
       "</div>"
      ],
      "text/plain": [
       "                                            id    code_uic  \\\n",
       "1256  5e6c947d7b4656435bd51d98b812591382632924  0087000028   \n",
       "2588  61fd0a21f177438f872859fb149fa8cc6e7c2863  0087000032   \n",
       "1145  f90a4a67faa88f3f424e6967e09cc0653f642e04  0087001479   \n",
       "1896  a3a687d0751bbec6a7ba16870933438ae073b622  0087009696   \n",
       "1895  11e9af039e38eeb54620ae596abf947a26bf423c  0087109306   \n",
       "...                                        ...         ...   \n",
       "1281  c1eb0555ec810840ed1866aaf02bfb376a8029c1  0087784892   \n",
       "664   ad72975073065b6bbd0b4a5e7f3299972f5ab6b3  0087785006   \n",
       "3013  5b54fe3746858c7d41facbfe1e90115d73fe8a41  0087981902   \n",
       "663   c916d3f5dbd75d76305e7aa537e67daeb8f239e9  0087988709   \n",
       "2590  2636a377da82c8a4100bc6d7ff548751c77ce923  0087988717   \n",
       "\n",
       "                              nom_gare code_postal code_commune  \\\n",
       "1256                          Sevenans       90400          094   \n",
       "2588        Le Mans hôpital-université       72000         None   \n",
       "1145  Aéroport Charles de Gaulle 2 TGV       95700          527   \n",
       "1896                     La Douzillère       37300          122   \n",
       "1895                         Lille CHR       59000          350   \n",
       "...                                ...         ...          ...   \n",
       "1281                        Bena Fanes       66760          066   \n",
       "664                            Cerbère       66290          048   \n",
       "3013                       Avignon TGV       84000          007   \n",
       "663                   Remise à Jorelle       93140          010   \n",
       "2590               Lycée Henri Sellier       93190          046   \n",
       "\n",
       "     code_departement            departement  longitude   latitude  \n",
       "1256               90  Territoire de Belfort        NaN        NaN  \n",
       "2588             None                   None        NaN        NaN  \n",
       "1145               95             Val-d'Oise   2.570892  49.003652  \n",
       "1896               37         Indre-et-Loire   0.652824  47.338817  \n",
       "1895               59                   Nord   3.034320  50.614320  \n",
       "...               ...                    ...        ...        ...  \n",
       "1281               66    Pyrénées-Orientales   1.916726  42.458078  \n",
       "664                66    Pyrénées-Orientales   3.163403  42.441773  \n",
       "3013               84               Vaucluse   4.786079  43.921586  \n",
       "663                93      Seine-Saint-Denis   2.487751  48.893170  \n",
       "2590               93      Seine-Saint-Denis   2.515040  48.916460  \n",
       "\n",
       "[3213 rows x 9 columns]"
      ]
     },
     "execution_count": 28,
     "metadata": {},
     "output_type": "execute_result"
    }
   ],
   "source": [
    "gare_gb.sort_values(by=\"code_uic\")"
   ]
  },
  {
   "cell_type": "code",
   "execution_count": 24,
   "metadata": {},
   "outputs": [],
   "source": [
    "le_merge = item_gb.merge(gare_gb, how='left',left_on=\"code_uic_gare_origine\", right_on=\"code_uic\" )"
   ]
  },
  {
   "cell_type": "code",
   "execution_count": 31,
   "metadata": {},
   "outputs": [
    {
     "data": {
      "text/plain": [
       "array([nan, '75', '10', '54', '88', '51', '68', '90', '67', '57', '59',\n",
       "       '95', '60', '62', '80', '84', '13', '27', '76', '14', '61', '35',\n",
       "       '29', '56', '53', '44', '49', '17', '85', '45', '37', '41', '86',\n",
       "       '18', '33', '16', '24', '47', '87', '36', '31', '11', '65', '64',\n",
       "       '34', '58', '03', '21', '25', '69', '71', '42', '63', '73', '01',\n",
       "       '74', '38', '83', '06', '26', '05', '30', '66'], dtype=object)"
      ]
     },
     "execution_count": 31,
     "metadata": {},
     "output_type": "execute_result"
    }
   ],
   "source": [
    "le_merge[\"code_departement\"].unique()"
   ]
  }
 ],
 "metadata": {
  "kernelspec": {
   "display_name": "api_env",
   "language": "python",
   "name": "python3"
  },
  "language_info": {
   "codemirror_mode": {
    "name": "ipython",
    "version": 3
   },
   "file_extension": ".py",
   "mimetype": "text/x-python",
   "name": "python",
   "nbconvert_exporter": "python",
   "pygments_lexer": "ipython3",
   "version": "3.10.8 (main, Nov 24 2022, 08:08:27) [Clang 14.0.6 ]"
  },
  "orig_nbformat": 4,
  "vscode": {
   "interpreter": {
    "hash": "e8274edc8866fc63ca5874cf259eccc9d0ee2281d63f55860dfcba6cad789c40"
   }
  }
 },
 "nbformat": 4,
 "nbformat_minor": 2
}
